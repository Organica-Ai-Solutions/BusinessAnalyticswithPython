{"cells":[{"cell_type":"markdown","metadata":{},"source":["# Retail Sales Analysis
","
","This notebook implements the analytical techniques from the book \"Business Analytics with Python: A Practical Guide for Data Analysts & Business Professionals\"."]}],"metadata":{"kernelspec":{"display_name":"Python 3","language":"python","name":"python3"}},"nbformat":4,"nbformat_minor":5}
